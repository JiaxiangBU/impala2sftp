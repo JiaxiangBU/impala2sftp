{
 "cells": [
  {
   "cell_type": "markdown",
   "metadata": {
    "toc": true
   },
   "source": [
    "<h1>Table of Contents<span class=\"tocSkip\"></span></h1>\n",
    "<div class=\"toc\"><ul class=\"toc-item\"><li><span><a href=\"#下载文件\" data-toc-modified-id=\"下载文件-1\"><span class=\"toc-item-num\">1&nbsp;&nbsp;</span>下载文件</a></span><ul class=\"toc-item\"><li><span><a href=\"#impala-脚本设置\" data-toc-modified-id=\"impala-脚本设置-1.1\"><span class=\"toc-item-num\">1.1&nbsp;&nbsp;</span>impala 脚本设置</a></span></li><li><span><a href=\"#下载数据\" data-toc-modified-id=\"下载数据-1.2\"><span class=\"toc-item-num\">1.2&nbsp;&nbsp;</span>下载数据</a></span></li></ul></li><li><span><a href=\"#上传文件\" data-toc-modified-id=\"上传文件-2\"><span class=\"toc-item-num\">2&nbsp;&nbsp;</span>上传文件</a></span></li></ul></div>"
   ]
  },
  {
   "cell_type": "code",
   "execution_count": 7,
   "metadata": {},
   "outputs": [],
   "source": [
    "# import module\n",
    "# impala\n",
    "from __future__ import print_function\n",
    "from impala.dbapi import connect\n",
    "from impala.util import as_pandas\n",
    "\n",
    "# sftp\n",
    "import paramiko\n",
    "import csv\n",
    "import os.path\n",
    "import pysftp"
   ]
  },
  {
   "cell_type": "code",
   "execution_count": 8,
   "metadata": {},
   "outputs": [],
   "source": [
    "file_path = 'D:\\\\lijiaxiang\\\\180601_product\\\\proct_file_mgt\\\\66bank\\\\deployment\\\\test_upload_ljx.csv'\n",
    "remote = 'upload/test02.csv'\n",
    "#远程文件或目录，与本地一致，当前为linux目录格式"
   ]
  },
  {
   "cell_type": "markdown",
   "metadata": {},
   "source": [
    "# 下载文件"
   ]
  },
  {
   "cell_type": "markdown",
   "metadata": {},
   "source": [
    "## impala 脚本设置"
   ]
  },
  {
   "cell_type": "code",
   "execution_count": 80,
   "metadata": {},
   "outputs": [],
   "source": [
    "def run_sql(sql):\n",
    "    conn = connect(host='******', auth_mechanism='PLAIN', port=10000, user='lijiaxiang', password='******')\n",
    "    cursor = conn.cursor()\n",
    "    cnt = 1\n",
    "\n",
    "    # 2.2 对impala执行SQL查询\n",
    "    if ';' in sql:\n",
    "        sql_list = sql.rstrip().split(';')\n",
    "        # print(type(sql_list))\n",
    "        if len(sql_list[-1]):\n",
    "            for s in sql_list:\n",
    "                print(\"runing sql @ %s\" % cnt)\n",
    "                cursor.execute(s)\n",
    "                cnt += 1\n",
    "        else:\n",
    "            sql_list.pop()\n",
    "            for s in sql_list:\n",
    "                print(\"runing sql @ %s\" % cnt)\n",
    "                cursor.execute(s)\n",
    "                cnt += 1\n",
    "    else:\n",
    "        print(\"runing sql @ %s\" % cnt)\n",
    "        cursor.execute(sql)\n",
    "    # 2.3 把结果转化成pandas的dataframe格式，以便进行数据分析\n",
    "    # df = as_pandas(cursor)\n",
    "    # print(df)\n",
    "    return as_pandas(cursor) if cursor.description != None else 'null'"
   ]
  },
  {
   "cell_type": "code",
   "execution_count": 1,
   "metadata": {},
   "outputs": [],
   "source": [
    "# df = run_sql('select 2 as x1')\n",
    "# 测试impala包运行成功"
   ]
  },
  {
   "cell_type": "code",
   "execution_count": 82,
   "metadata": {},
   "outputs": [],
   "source": [
    "df.to_csv(file_path)"
   ]
  },
  {
   "cell_type": "markdown",
   "metadata": {},
   "source": [
    "## 下载数据"
   ]
  },
  {
   "cell_type": "markdown",
   "metadata": {},
   "source": [
    "# 上传文件"
   ]
  },
  {
   "cell_type": "code",
   "execution_count": 3,
   "metadata": {},
   "outputs": [],
   "source": [
    "def sftp_upload(host,port,username,password,local,remote):\n",
    "    sf = paramiko.Transport((host,port))\n",
    "    sf.connect(hostkey = None, username = username,password = password)\n",
    "    sftp = paramiko.SFTPClient.from_transport(sf)\n",
    "    try:\n",
    "        sftp.mkdir(\"test\")\n",
    "    except IOError:\n",
    "        print(\"(assuming test/ already exists)\")\n",
    "    try:\n",
    "        if os.path.isdir(local):#判断本地参数是目录还是文件\n",
    "            for f in os.listdir(local):#遍历本地目录\n",
    "                sftp.put(os.path.join(local+f),os.path.join(remote+f))#上传目录中的文件\n",
    "        else:\n",
    "            sftp.put(local,remote)#上传文件\n",
    "    except Exception,e:\n",
    "        print('upload exception:',e)\n",
    "    sf.close()"
   ]
  },
  {
   "cell_type": "code",
   "execution_count": 9,
   "metadata": {},
   "outputs": [],
   "source": [
    "host = '******'#主机\n",
    "port = 10000 #端口\n",
    "username = '******' #用户名\n",
    "password = '******' #密码\n",
    "local = '******'\n",
    "#本地文件或目录，与远程一致，当前为windows目录格式，window目录中间需要使用双斜线"
   ]
  },
  {
   "cell_type": "code",
   "execution_count": 10,
   "metadata": {
    "scrolled": false
   },
   "outputs": [
    {
     "name": "stdout",
     "output_type": "stream",
     "text": [
      "(assuming test/ already exists)\n"
     ]
    }
   ],
   "source": [
    "sftp_upload(host,port,username,password,local,remote) #上传"
   ]
  }
 ],
 "metadata": {
  "kernelspec": {
   "display_name": "Python 2",
   "language": "python",
   "name": "python2"
  },
  "language_info": {
   "codemirror_mode": {
    "name": "ipython",
    "version": 2
   },
   "file_extension": ".py",
   "mimetype": "text/x-python",
   "name": "python",
   "nbconvert_exporter": "python",
   "pygments_lexer": "ipython2",
   "version": "2.7.14"
  },
  "latex_envs": {
   "LaTeX_envs_menu_present": true,
   "autoclose": true,
   "autocomplete": true,
   "bibliofile": "biblio.bib",
   "cite_by": "apalike",
   "current_citInitial": 1,
   "eqLabelWithNumbers": true,
   "eqNumInitial": 1,
   "hotkeys": {
    "equation": "Ctrl-E",
    "itemize": "Ctrl-I"
   },
   "labels_anchors": false,
   "latex_user_defs": false,
   "report_style_numbering": false,
   "user_envs_cfg": false
  },
  "toc": {
   "base_numbering": 1,
   "nav_menu": {},
   "number_sections": true,
   "sideBar": true,
   "skip_h1_title": false,
   "title_cell": "Table of Contents",
   "title_sidebar": "Contents",
   "toc_cell": true,
   "toc_position": {},
   "toc_section_display": true,
   "toc_window_display": false
  }
 },
 "nbformat": 4,
 "nbformat_minor": 2
}
